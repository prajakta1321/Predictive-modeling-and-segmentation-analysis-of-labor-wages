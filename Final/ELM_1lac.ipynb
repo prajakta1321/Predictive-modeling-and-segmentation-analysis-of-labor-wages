{
  "cells": [
    {
      "cell_type": "code",
      "execution_count": 2,
      "metadata": {
        "colab": {
          "base_uri": "https://localhost:8080/"
        },
        "id": "11CkpZGliXAo",
        "outputId": "d23ed903-881d-4647-8e90-b4ac867aafe6"
      },
      "outputs": [
        {
          "name": "stdout",
          "output_type": "stream",
          "text": [
            "Collecting hpelm\n",
            "  Downloading hpelm-1.0.10-py3-none-any.whl.metadata (2.9 kB)\n",
            "Collecting fasteners (from hpelm)\n",
            "  Downloading fasteners-0.19-py3-none-any.whl.metadata (4.9 kB)\n",
            "Collecting nose (from hpelm)\n",
            "  Downloading nose-1.3.7-py3-none-any.whl.metadata (1.7 kB)\n",
            "Requirement already satisfied: numpy in c:\\users\\admin\\desktop\\tommy\\.venv\\lib\\site-packages (from hpelm) (2.2.1)\n",
            "Requirement already satisfied: scipy>=0.12 in c:\\users\\admin\\desktop\\tommy\\.venv\\lib\\site-packages (from hpelm) (1.15.0)\n",
            "Requirement already satisfied: six in c:\\users\\admin\\desktop\\tommy\\.venv\\lib\\site-packages (from hpelm) (1.17.0)\n",
            "Collecting tables (from hpelm)\n",
            "  Downloading tables-3.10.2-cp313-cp313-win_amd64.whl.metadata (2.1 kB)\n",
            "Collecting numexpr>=2.6.2 (from tables->hpelm)\n",
            "  Downloading numexpr-2.10.2-cp313-cp313-win_amd64.whl.metadata (8.3 kB)\n",
            "Requirement already satisfied: packaging in c:\\users\\admin\\desktop\\tommy\\.venv\\lib\\site-packages (from tables->hpelm) (24.2)\n",
            "Collecting py-cpuinfo (from tables->hpelm)\n",
            "  Downloading py_cpuinfo-9.0.0-py3-none-any.whl.metadata (794 bytes)\n",
            "Collecting blosc2>=2.3.0 (from tables->hpelm)\n",
            "  Downloading blosc2-3.0.0-cp313-cp313-win_amd64.whl.metadata (13 kB)\n",
            "Collecting typing-extensions>=4.4.0 (from tables->hpelm)\n",
            "  Using cached typing_extensions-4.12.2-py3-none-any.whl.metadata (3.0 kB)\n",
            "Collecting ndindex (from blosc2>=2.3.0->tables->hpelm)\n",
            "  Downloading ndindex-1.9.2-cp313-cp313-win_amd64.whl.metadata (3.5 kB)\n",
            "Collecting msgpack (from blosc2>=2.3.0->tables->hpelm)\n",
            "  Downloading msgpack-1.1.0-cp313-cp313-win_amd64.whl.metadata (8.6 kB)\n",
            "Collecting httpx (from blosc2>=2.3.0->tables->hpelm)\n",
            "  Downloading httpx-0.28.1-py3-none-any.whl.metadata (7.1 kB)\n",
            "Collecting anyio (from httpx->blosc2>=2.3.0->tables->hpelm)\n",
            "  Downloading anyio-4.8.0-py3-none-any.whl.metadata (4.6 kB)\n",
            "Collecting certifi (from httpx->blosc2>=2.3.0->tables->hpelm)\n",
            "  Downloading certifi-2025.1.31-py3-none-any.whl.metadata (2.5 kB)\n",
            "Collecting httpcore==1.* (from httpx->blosc2>=2.3.0->tables->hpelm)\n",
            "  Downloading httpcore-1.0.7-py3-none-any.whl.metadata (21 kB)\n",
            "Collecting idna (from httpx->blosc2>=2.3.0->tables->hpelm)\n",
            "  Using cached idna-3.10-py3-none-any.whl.metadata (10 kB)\n",
            "Collecting h11<0.15,>=0.13 (from httpcore==1.*->httpx->blosc2>=2.3.0->tables->hpelm)\n",
            "  Downloading h11-0.14.0-py3-none-any.whl.metadata (8.2 kB)\n",
            "Collecting sniffio>=1.1 (from anyio->httpx->blosc2>=2.3.0->tables->hpelm)\n",
            "  Downloading sniffio-1.3.1-py3-none-any.whl.metadata (3.9 kB)\n",
            "Downloading hpelm-1.0.10-py3-none-any.whl (50 kB)\n",
            "Downloading fasteners-0.19-py3-none-any.whl (18 kB)\n",
            "Downloading nose-1.3.7-py3-none-any.whl (154 kB)\n",
            "Downloading tables-3.10.2-cp313-cp313-win_amd64.whl (6.4 MB)\n",
            "   ---------------------------------------- 0.0/6.4 MB ? eta -:--:--\n",
            "   ------ --------------------------------- 1.0/6.4 MB 9.2 MB/s eta 0:00:01\n",
            "   ------------- -------------------------- 2.1/6.4 MB 5.2 MB/s eta 0:00:01\n",
            "   --------------------- ------------------ 3.4/6.4 MB 5.2 MB/s eta 0:00:01\n",
            "   --------------------------- ------------ 4.5/6.4 MB 5.1 MB/s eta 0:00:01\n",
            "   ---------------------------------- ----- 5.5/6.4 MB 5.2 MB/s eta 0:00:01\n",
            "   ---------------------------------------- 6.4/6.4 MB 5.0 MB/s eta 0:00:00\n",
            "Downloading blosc2-3.0.0-cp313-cp313-win_amd64.whl (2.2 MB)\n",
            "   ---------------------------------------- 0.0/2.2 MB ? eta -:--:--\n",
            "   -------------- ------------------------- 0.8/2.2 MB 7.3 MB/s eta 0:00:01\n",
            "   -------------------------------------- - 2.1/2.2 MB 5.1 MB/s eta 0:00:01\n",
            "   ---------------------------------------- 2.2/2.2 MB 4.6 MB/s eta 0:00:00\n",
            "Downloading numexpr-2.10.2-cp313-cp313-win_amd64.whl (145 kB)\n",
            "Using cached typing_extensions-4.12.2-py3-none-any.whl (37 kB)\n",
            "Downloading py_cpuinfo-9.0.0-py3-none-any.whl (22 kB)\n",
            "Downloading httpx-0.28.1-py3-none-any.whl (73 kB)\n",
            "Downloading httpcore-1.0.7-py3-none-any.whl (78 kB)\n",
            "Downloading msgpack-1.1.0-cp313-cp313-win_amd64.whl (75 kB)\n",
            "Downloading ndindex-1.9.2-cp313-cp313-win_amd64.whl (158 kB)\n",
            "Downloading anyio-4.8.0-py3-none-any.whl (96 kB)\n",
            "Using cached idna-3.10-py3-none-any.whl (70 kB)\n",
            "Downloading certifi-2025.1.31-py3-none-any.whl (166 kB)\n",
            "Downloading h11-0.14.0-py3-none-any.whl (58 kB)\n",
            "Downloading sniffio-1.3.1-py3-none-any.whl (10 kB)\n",
            "Installing collected packages: py-cpuinfo, nose, typing-extensions, sniffio, numexpr, ndindex, msgpack, idna, h11, fasteners, certifi, httpcore, anyio, httpx, blosc2, tables, hpelm\n",
            "Successfully installed anyio-4.8.0 blosc2-3.0.0 certifi-2025.1.31 fasteners-0.19 h11-0.14.0 hpelm-1.0.10 httpcore-1.0.7 httpx-0.28.1 idna-3.10 msgpack-1.1.0 ndindex-1.9.2 nose-1.3.7 numexpr-2.10.2 py-cpuinfo-9.0.0 sniffio-1.3.1 tables-3.10.2 typing-extensions-4.12.2\n"
          ]
        },
        {
          "name": "stderr",
          "output_type": "stream",
          "text": [
            "\n",
            "[notice] A new release of pip is available: 24.3.1 -> 25.0\n",
            "[notice] To update, run: python.exe -m pip install --upgrade pip\n"
          ]
        }
      ],
      "source": [
        "!pip install hpelm"
      ]
    },
    {
      "cell_type": "code",
      "execution_count": 3,
      "metadata": {},
      "outputs": [],
      "source": [
        "import pandas as pd\n",
        "import numpy as np\n",
        "from sklearn.model_selection import train_test_split\n",
        "from sklearn.preprocessing import StandardScaler\n",
        "from sklearn.metrics import mean_absolute_error, mean_squared_error, r2_score\n",
        "import hpelm"
      ]
    },
    {
      "cell_type": "code",
      "execution_count": 12,
      "metadata": {
        "colab": {
          "base_uri": "https://localhost:8080/",
          "height": 206
        },
        "id": "fxaurIoNieY2",
        "outputId": "3be2987e-e871-40c1-a93e-7cc33708af77"
      },
      "outputs": [
        {
          "data": {
            "text/html": [
              "<div>\n",
              "<style scoped>\n",
              "    .dataframe tbody tr th:only-of-type {\n",
              "        vertical-align: middle;\n",
              "    }\n",
              "\n",
              "    .dataframe tbody tr th {\n",
              "        vertical-align: top;\n",
              "    }\n",
              "\n",
              "    .dataframe thead th {\n",
              "        text-align: right;\n",
              "    }\n",
              "</style>\n",
              "<table border=\"1\" class=\"dataframe\">\n",
              "  <thead>\n",
              "    <tr style=\"text-align: right;\">\n",
              "      <th></th>\n",
              "      <th>Unnamed: 0</th>\n",
              "      <th>Centre</th>\n",
              "      <th>Gender</th>\n",
              "      <th>Labour Category</th>\n",
              "      <th>Labour Type</th>\n",
              "      <th>State</th>\n",
              "      <th>District</th>\n",
              "      <th>Wage(INR)</th>\n",
              "      <th>Month</th>\n",
              "      <th>Year</th>\n",
              "    </tr>\n",
              "  </thead>\n",
              "  <tbody>\n",
              "    <tr>\n",
              "      <th>0</th>\n",
              "      <td>0</td>\n",
              "      <td>BUKKAPATINAM</td>\n",
              "      <td>M</td>\n",
              "      <td>FIELD LABOUR</td>\n",
              "      <td>FIELD LABOUR</td>\n",
              "      <td>ANDHRA PRADESH</td>\n",
              "      <td>ANANTAPUR</td>\n",
              "      <td>216.0</td>\n",
              "      <td>Jul</td>\n",
              "      <td>2015</td>\n",
              "    </tr>\n",
              "    <tr>\n",
              "      <th>1</th>\n",
              "      <td>1</td>\n",
              "      <td>BUKKAPATINAM</td>\n",
              "      <td>W</td>\n",
              "      <td>FIELD LABOUR</td>\n",
              "      <td>FIELD LABOUR</td>\n",
              "      <td>ANDHRA PRADESH</td>\n",
              "      <td>ANANTAPUR</td>\n",
              "      <td>150.0</td>\n",
              "      <td>Jul</td>\n",
              "      <td>2015</td>\n",
              "    </tr>\n",
              "    <tr>\n",
              "      <th>2</th>\n",
              "      <td>2</td>\n",
              "      <td>BUKKAPATINAM</td>\n",
              "      <td>M</td>\n",
              "      <td>HERDSMEN</td>\n",
              "      <td>HERDSMEN</td>\n",
              "      <td>ANDHRA PRADESH</td>\n",
              "      <td>ANANTAPUR</td>\n",
              "      <td>200.0</td>\n",
              "      <td>Jul</td>\n",
              "      <td>2015</td>\n",
              "    </tr>\n",
              "    <tr>\n",
              "      <th>3</th>\n",
              "      <td>3</td>\n",
              "      <td>BUKKAPATINAM</td>\n",
              "      <td>W</td>\n",
              "      <td>HERDSMEN</td>\n",
              "      <td>HERDSMEN</td>\n",
              "      <td>ANDHRA PRADESH</td>\n",
              "      <td>ANANTAPUR</td>\n",
              "      <td>200.0</td>\n",
              "      <td>Jul</td>\n",
              "      <td>2015</td>\n",
              "    </tr>\n",
              "    <tr>\n",
              "      <th>4</th>\n",
              "      <td>4</td>\n",
              "      <td>BUKKAPATINAM</td>\n",
              "      <td>M</td>\n",
              "      <td>SKILLED \\nLABOUR</td>\n",
              "      <td>CARPENTER</td>\n",
              "      <td>ANDHRA PRADESH</td>\n",
              "      <td>ANANTAPUR</td>\n",
              "      <td>300.0</td>\n",
              "      <td>Jul</td>\n",
              "      <td>2015</td>\n",
              "    </tr>\n",
              "  </tbody>\n",
              "</table>\n",
              "</div>"
            ],
            "text/plain": [
              "   Unnamed: 0        Centre Gender   Labour Category   Labour Type  \\\n",
              "0           0  BUKKAPATINAM      M      FIELD LABOUR  FIELD LABOUR   \n",
              "1           1  BUKKAPATINAM      W      FIELD LABOUR  FIELD LABOUR   \n",
              "2           2  BUKKAPATINAM      M          HERDSMEN      HERDSMEN   \n",
              "3           3  BUKKAPATINAM      W          HERDSMEN      HERDSMEN   \n",
              "4           4  BUKKAPATINAM      M  SKILLED \\nLABOUR     CARPENTER   \n",
              "\n",
              "            State   District  Wage(INR) Month  Year  \n",
              "0  ANDHRA PRADESH  ANANTAPUR      216.0   Jul  2015  \n",
              "1  ANDHRA PRADESH  ANANTAPUR      150.0   Jul  2015  \n",
              "2  ANDHRA PRADESH  ANANTAPUR      200.0   Jul  2015  \n",
              "3  ANDHRA PRADESH  ANANTAPUR      200.0   Jul  2015  \n",
              "4  ANDHRA PRADESH  ANANTAPUR      300.0   Jul  2015  "
            ]
          },
          "execution_count": 12,
          "metadata": {},
          "output_type": "execute_result"
        }
      ],
      "source": [
        "data = pd.read_csv('small1.csv')\n",
        "data.head()"
      ]
    },
    {
      "cell_type": "code",
      "execution_count": 13,
      "metadata": {
        "id": "tmajfnNBn5-K"
      },
      "outputs": [],
      "source": [
        "data = data.dropna()"
      ]
    },
    {
      "cell_type": "code",
      "execution_count": 14,
      "metadata": {
        "id": "TCHZ6eJojMVl"
      },
      "outputs": [],
      "source": [
        "X = data.drop('Wage(INR)', axis=1)\n",
        "y = data['Wage(INR)'].values.reshape(-1, 1)"
      ]
    },
    {
      "cell_type": "code",
      "execution_count": 15,
      "metadata": {
        "id": "OBHYX0nYjMbM"
      },
      "outputs": [],
      "source": [
        "X = pd.get_dummies(X)"
      ]
    },
    {
      "cell_type": "code",
      "execution_count": 16,
      "metadata": {
        "id": "fH5RqZKQjMeP"
      },
      "outputs": [],
      "source": [
        "scaler = StandardScaler()\n",
        "X_scaled = scaler.fit_transform(X)"
      ]
    },
    {
      "cell_type": "code",
      "execution_count": 17,
      "metadata": {
        "id": "6T8IDkO4jMhM"
      },
      "outputs": [],
      "source": [
        "X_train, X_test, y_train, y_test = train_test_split(X_scaled, y, test_size=0.2, random_state=42)"
      ]
    },
    {
      "cell_type": "code",
      "execution_count": 18,
      "metadata": {
        "id": "lMRl3FQ2jMj9"
      },
      "outputs": [],
      "source": [
        "elm = hpelm.ELM(X_train.shape[1], 1)\n",
        "elm.add_neurons(1500, 'sigm')"
      ]
    },
    {
      "cell_type": "code",
      "execution_count": 19,
      "metadata": {
        "id": "7EiWIpZKjMm9"
      },
      "outputs": [],
      "source": [
        "elm.train(X_train, y_train, 'r')"
      ]
    },
    {
      "cell_type": "code",
      "execution_count": 20,
      "metadata": {
        "colab": {
          "base_uri": "https://localhost:8080/"
        },
        "id": "BR6I3wLKjqqN",
        "outputId": "fe3177ed-7c83-4367-8f6b-e16f315c709a"
      },
      "outputs": [
        {
          "name": "stdout",
          "output_type": "stream",
          "text": [
            "Mean Squared Error: 3772.9786622722713\n"
          ]
        }
      ],
      "source": [
        "from sklearn.metrics import mean_squared_error\n",
        "y_pred = elm.predict(X_test)\n",
        "mse = mean_squared_error(y_test, y_pred)\n",
        "print(f\"Mean Squared Error: {mse}\")"
      ]
    },
    {
      "cell_type": "code",
      "execution_count": 21,
      "metadata": {
        "colab": {
          "base_uri": "https://localhost:8080/"
        },
        "id": "VnlKeZVGjqv1",
        "outputId": "d924209c-f3d0-4c22-b803-bcc1860314db"
      },
      "outputs": [
        {
          "data": {
            "text/plain": [
              "38.78623166431394"
            ]
          },
          "execution_count": 21,
          "metadata": {},
          "output_type": "execute_result"
        }
      ],
      "source": [
        "mae = mean_absolute_error(y_test, y_pred)\n",
        "mae"
      ]
    },
    {
      "cell_type": "code",
      "execution_count": 22,
      "metadata": {
        "colab": {
          "base_uri": "https://localhost:8080/"
        },
        "id": "uU7Zn8DwvDvS",
        "outputId": "48dc1ee1-35f7-41fb-a116-fd5ed30975b0"
      },
      "outputs": [
        {
          "name": "stdout",
          "output_type": "stream",
          "text": [
            "Root Mean Squared Error (RMSE): 61.424577021516974\n"
          ]
        }
      ],
      "source": [
        "import numpy as np\n",
        "rmse = np.sqrt(mean_squared_error(y_test, y_pred))\n",
        "print(\"Root Mean Squared Error (RMSE):\", rmse)"
      ]
    },
    {
      "cell_type": "code",
      "execution_count": 23,
      "metadata": {
        "colab": {
          "base_uri": "https://localhost:8080/"
        },
        "id": "N8Yo0fC3oMIJ",
        "outputId": "26a2e76a-2fdd-454f-fe94-6d7859c1a75d"
      },
      "outputs": [
        {
          "data": {
            "text/plain": [
              "0.7392302137825599"
            ]
          },
          "execution_count": 23,
          "metadata": {},
          "output_type": "execute_result"
        }
      ],
      "source": [
        "r2 = r2_score(y_test, y_pred)\n",
        "r2"
      ]
    },
    {
      "cell_type": "code",
      "execution_count": 24,
      "metadata": {
        "id": "qzokoHPCrZnX"
      },
      "outputs": [],
      "source": [
        "elm = hpelm.ELM(X_train.shape[1], 1)\n",
        "elm.add_neurons(1500, 'tanh')"
      ]
    },
    {
      "cell_type": "code",
      "execution_count": 25,
      "metadata": {
        "id": "HGJqSQVYrZqF"
      },
      "outputs": [],
      "source": [
        "elm.train(X_train, y_train, 'r')"
      ]
    },
    {
      "cell_type": "code",
      "execution_count": 26,
      "metadata": {
        "colab": {
          "base_uri": "https://localhost:8080/"
        },
        "id": "fJFsr2OgrZsv",
        "outputId": "27c49345-83a7-4ddc-aed3-9889c2a6a891"
      },
      "outputs": [
        {
          "name": "stdout",
          "output_type": "stream",
          "text": [
            "Mean Squared Error: 4010.9921590070553\n"
          ]
        }
      ],
      "source": [
        "from sklearn.metrics import mean_squared_error\n",
        "y_pred = elm.predict(X_test)\n",
        "mse = mean_squared_error(y_test, y_pred)\n",
        "print(f\"Mean Squared Error: {mse}\")"
      ]
    },
    {
      "cell_type": "code",
      "execution_count": 27,
      "metadata": {
        "colab": {
          "base_uri": "https://localhost:8080/"
        },
        "id": "1ZpQH7wQrZvV",
        "outputId": "812e3ea6-b749-4a22-c4c6-b253eed33b9f"
      },
      "outputs": [
        {
          "data": {
            "text/plain": [
              "40.28461962170324"
            ]
          },
          "execution_count": 27,
          "metadata": {},
          "output_type": "execute_result"
        }
      ],
      "source": [
        "mae = mean_absolute_error(y_test, y_pred)\n",
        "mae"
      ]
    },
    {
      "cell_type": "code",
      "execution_count": 28,
      "metadata": {
        "colab": {
          "base_uri": "https://localhost:8080/"
        },
        "id": "SBSgatszvCyD",
        "outputId": "5a01be2f-ce6d-408b-e6c1-52a79d988bbc"
      },
      "outputs": [
        {
          "name": "stdout",
          "output_type": "stream",
          "text": [
            "Root Mean Squared Error (RMSE): 63.332394230812525\n"
          ]
        }
      ],
      "source": [
        "import numpy as np\n",
        "rmse = np.sqrt(mean_squared_error(y_test, y_pred))\n",
        "print(\"Root Mean Squared Error (RMSE):\", rmse)"
      ]
    },
    {
      "cell_type": "code",
      "execution_count": 29,
      "metadata": {
        "colab": {
          "base_uri": "https://localhost:8080/"
        },
        "id": "1hG6UTmPrZx-",
        "outputId": "b5a9e0d3-5cf2-4341-8b32-59715a59660f"
      },
      "outputs": [
        {
          "data": {
            "text/plain": [
              "0.7227798878687062"
            ]
          },
          "execution_count": 29,
          "metadata": {},
          "output_type": "execute_result"
        }
      ],
      "source": [
        "r2 = r2_score(y_test, y_pred)\n",
        "r2"
      ]
    },
    {
      "cell_type": "code",
      "execution_count": 30,
      "metadata": {
        "colab": {
          "base_uri": "https://localhost:8080/",
          "height": 564
        },
        "id": "nk5iAm8fJF9Y",
        "outputId": "d603ce59-a8c7-4d75-b412-6bf09070a41d"
      },
      "outputs": [
        {
          "data": {
            "image/png": "[encoded data removed]",
            "text/plain": [
              "<Figure size 800x600 with 1 Axes>"
            ]
          },
          "metadata": {},
          "output_type": "display_data"
        }
      ],
      "source": [
        "import matplotlib.pyplot as plt\n",
        "\n",
        "# Assuming y_pred is your list of predicted values and y_test is your list of actual values\n",
        "\n",
        "# Create a figure with specific size\n",
        "plt.figure(figsize=(8, 6))\n",
        "\n",
        "# Plot y_test as a line (if ordered) or scatter plot with a different color\n",
        "plt.scatter(range(len(y_test)), y_test, color='green', alpha=0.6, label='Actual Values (y_test)')\n",
        "\n",
        "# Plot y_pred as a scatter plot with a different color\n",
        "plt.scatter(range(len(y_pred)), y_pred, color='blue', alpha=0.6, label='Predicted Values (y_pred)')\n",
        "\n",
        "# Add labels and title\n",
        "plt.xlabel('Index')  # Replace 'Index' with a more suitable x-axis label if needed\n",
        "plt.ylabel('Values')\n",
        "plt.title('Scatter Plot of Predicted vs Actual Values')\n",
        "\n",
        "# Add a legend to distinguish the two plots\n",
        "plt.legend()\n",
        "\n",
        "# Show the plot\n",
        "plt.show()\n",
        "\n",
        "# the actual and predicted values are overlapping. it measn that the model is performing as expected.\n",
        "# the points which are away from the majority points are the outliers."
      ]
    }
  ],
  "metadata": {
    "accelerator": "TPU",
    "colab": {
      "gpuType": "V28",
      "provenance": []
    },
    "kernelspec": {
      "display_name": ".venv",
      "language": "python",
      "name": "python3"
    },
    "language_info": {
      "codemirror_mode": {
        "name": "ipython",
        "version": 3
      },
      "file_extension": ".py",
      "mimetype": "text/x-python",
      "name": "python",
      "nbconvert_exporter": "python",
      "pygments_lexer": "ipython3",
      "version": "3.13.1"
    }
  },
  "nbformat": 4,
  "nbformat_minor": 0
}
